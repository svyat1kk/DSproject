{
 "cells": [
  {
   "cell_type": "markdown",
   "id": "3eaca8a2",
   "metadata": {},
   "source": [
    "## Imports"
   ]
  },
  {
   "cell_type": "code",
   "execution_count": 1,
   "id": "5e78dbfd",
   "metadata": {},
   "outputs": [],
   "source": [
    "import numpy as np\n",
    "import pandas as pd\n",
    "import matplotlib.pyplot as plt\n",
    "import seaborn as sns\n",
    "import warnings\n",
    "import re\n",
    "warnings.filterwarnings('always', category=DeprecationWarning,\n",
    "module=r'^{0}\\.'.format(re.escape(__name__)))\n",
    "import os\n",
    "import sys\n",
    "sys.stderr = open(os.devnull, \"w\")  # silence stderr\n",
    "from sklearn.model_selection import train_test_split, KFold, cross_val_score\n",
    "from sklearn.svm import SVC\n",
    "from sklearn.neighbors import KNeighborsClassifier\n",
    "from sklearn.ensemble import RandomForestClassifier, VotingClassifier, BaggingClassifier\n",
    "from sklearn.tree import DecisionTreeClassifier\n",
    "from sklearn.linear_model import LogisticRegression\n",
    "from sklearn.model_selection import GridSearchCV, RandomizedSearchCV\n",
    "from sklearn.metrics import roc_auc_score, roc_curve, auc\n",
    "from sklearn.compose import ColumnTransformer\n",
    "from sklearn.preprocessing import PolynomialFeatures, StandardScaler\n",
    "from sklearn.pipeline import Pipeline\n",
    "from sklearn.linear_model import RidgeClassifier\n",
    "import xgboost as xgb"
   ]
  },
  {
   "cell_type": "markdown",
   "id": "76cc7443",
   "metadata": {},
   "source": [
    "## Cleaning data"
   ]
  },
  {
   "cell_type": "code",
   "execution_count": 2,
   "id": "a449e5f2",
   "metadata": {},
   "outputs": [
    {
     "data": {
      "text/plain": [
       "(5940, 17)"
      ]
     },
     "execution_count": 2,
     "metadata": {},
     "output_type": "execute_result"
    }
   ],
   "source": [
    "# Performs one-hot encoding on all non-numerical variables and also drops columns containing missing data:\n",
    "def one_hot(data):\n",
    "    bad_columns=[]\n",
    "    for col in data.columns:\n",
    "        if data[col].dtype=='object':\n",
    "            bad_columns.append(col)\n",
    "    return pd.get_dummies(data.dropna(),columns=bad_columns,drop_first=False)\n",
    "\n",
    "def downsample(data,var_to_balance):\n",
    "    vc=data[var_to_balance].value_counts()\n",
    "    imin=vc.idxmin()\n",
    "    result=data[data[var_to_balance]==imin]\n",
    "    for i in vc.index:\n",
    "        if i!=imin:\n",
    "            result=pd.concat([result,data[data[var_to_balance]==i].sample(vc[imin])])\n",
    "    return result\n",
    "    \n",
    "raw_data=pd.read_csv(\"anemia_neater.csv\")\n",
    "raw_data['mothers_education']=raw_data['mothers_education'].map({'No education':0,'Primary':1,'Secondary':2,'Higher':3})\n",
    "raw_data['mothers_wealth_index']=raw_data['mothers_wealth_index'].map({'Poorest':0,'Poorer':1,'Middle':2,'Richer':3,'Richest':4})\n",
    "\n",
    "# Replace mother's age group with the lowest boundary of respective age group (a useful numerical value):\n",
    "clean_data=raw_data.assign(mothers_age_group = raw_data['mothers_age_group'].str[:2].astype(int),\n",
    "                          child_tested = 1 - raw_data['childs_hemoglobin'].isna())\n",
    "\n",
    "\n",
    "\n",
    "clean_data.replace({'Not anemic':0,'Mild':1,'Moderate':1,'Severe':1},inplace=True)\n",
    "clean_data.replace('Yes',1,inplace=True)\n",
    "clean_data.replace('No',0,inplace=True)\n",
    "                                                                       \n",
    "# A few \"Don't know\" values in the table; interpret as missing data:\n",
    "clean_data.replace(\"Don't know\",np.NaN,inplace=True)\n",
    "\n",
    "anemia_data=downsample(one_hot(clean_data.drop(columns=['mothers_hemoglobin','childs_hemoglobin','child_tested'])),'childs_anemia')\n",
    "anemia_data.shape"
   ]
  },
  {
   "cell_type": "markdown",
   "id": "26d07c07",
   "metadata": {},
   "source": [
    "## Functions for analyzing results\n"
   ]
  },
  {
   "cell_type": "code",
   "execution_count": 3,
   "id": "f381ee91",
   "metadata": {},
   "outputs": [],
   "source": [
    "# for binary \n",
    "\n",
    "def result(model, X, y, X_test, y_test):\n",
    "    \n",
    "    accuracy = model.score(X_test, y_test)\n",
    "    print(f'accuracy: {accuracy:.4f}')\n",
    "    \n",
    "    y_probabilities = model.predict_proba(X_test)[:, 1]\n",
    "    auc_score = roc_auc_score(y_test, y_probabilities)\n",
    "    print(f\"AUC Score: {auc_score:.4f}\")\n",
    "    \n",
    "def analyse_ROC(model,X_test,y_test,title='',steps=100,drawPicture=True,showCutoff=None):\n",
    "    probabilities=pd.DataFrame(model.predict_proba(X_test))\n",
    "    p=0\n",
    "    dp=1/steps\n",
    "    tpr_array=[]\n",
    "    fpr_array=[]\n",
    "    while p<=1:\n",
    "        confusion=calculate_confusion(probabilities[1],y_test,p)\n",
    "        tpr_array.append(confusion[0][0]/sum(confusion[0]))\n",
    "        fpr_array.append(confusion[1][0]/sum(confusion[1]))\n",
    "        p+=dp\n",
    "    tpr_array=np.array(tpr_array)\n",
    "    fpr_array=np.array(fpr_array)\n",
    "    AUC=0\n",
    "    for i in range(1,len(tpr_array)):\n",
    "        AUC += (tpr_array[i-1]+tpr_array[i])/2 * (fpr_array[i-1]-fpr_array[i])\n",
    "    # Add the area of the last corner (the calculated curve may not reach the (0,0) point):\n",
    "    AUC += tpr_array[-1]/2 * fpr_array[-1]\n",
    "    \n",
    "    if drawPicture:\n",
    "        plt.plot(fpr_array,tpr_array,label=\"{title}; AUC = {AUC:.3f}\".format(title=title,AUC=AUC))\n",
    "        if not (showCutoff is None):\n",
    "            confusion=calculate_confusion(probabilities[1],y_test,showCutoff)\n",
    "            plt.plot(confusion[1][0]/sum(confusion[1]),confusion[0][0]/sum(confusion[0]),'r+',markersize=8)\n",
    "        plt.xlabel('FPR')\n",
    "        plt.ylabel('TPR')\n",
    "    return AUC\n",
    "\n",
    "def calculate_confusion(y_pred,y_test,threshold):\n",
    "    df=pd.DataFrame({'p':y_pred, 'y':y_test.reset_index(drop=True)})\n",
    "    df['predicted'] = (df['p']>=threshold)\n",
    "    tots=len(df['predicted'])\n",
    "    fp=(df['predicted']>df['y']).sum()\n",
    "    fn=(df['predicted']<df['y']).sum()\n",
    "    tp=df['predicted'].sum() - fp;\n",
    "    tn = tots - fp - fn - tp;\n",
    "    return ([[tp, fn], [fp, tn]])"
   ]
  },
  {
   "cell_type": "markdown",
   "id": "c421fa89",
   "metadata": {},
   "source": [
    "     \n",
    "                                    \n",
    "# Trying other models\n",
    "<br>"
   ]
  },
  {
   "cell_type": "markdown",
   "id": "da682b45",
   "metadata": {},
   "source": [
    "\n",
    "**Spliting the dataset onto train and test.**"
   ]
  },
  {
   "cell_type": "code",
   "execution_count": 4,
   "id": "da57da23",
   "metadata": {},
   "outputs": [],
   "source": [
    "X = anemia_data.drop(columns=\"childs_anemia\")\n",
    "y = anemia_data[\"childs_anemia\"]\n",
    "\n",
    "X_train,X_test,y_train,y_test = train_test_split(X,y,test_size=0.25)"
   ]
  },
  {
   "cell_type": "markdown",
   "id": "ba473afb",
   "metadata": {},
   "source": [
    "## RidgeClassifier"
   ]
  },
  {
   "cell_type": "code",
   "execution_count": 5,
   "id": "52a9e6f4",
   "metadata": {},
   "outputs": [],
   "source": [
    "rid = RidgeClassifier(random_state=32)"
   ]
  },
  {
   "cell_type": "code",
   "execution_count": 6,
   "id": "9ebbcc56",
   "metadata": {},
   "outputs": [
    {
     "name": "stdout",
     "output_type": "stream",
     "text": [
      "Accuracy: 0.599327\n",
      "AUC Score: 0.643225 \n"
     ]
    }
   ],
   "source": [
    "rid.fit(X_train, y_train)\n",
    "\n",
    "auc_score = roc_auc_score(y_test, rid.decision_function(X_test))\n",
    "\n",
    "print('Accuracy: %f' % rid.score(X_test,y_test))\n",
    "print('AUC Score: %f '% auc_score)"
   ]
  },
  {
   "cell_type": "markdown",
   "id": "0352c272",
   "metadata": {},
   "source": [
    "**Hyperparameters tuning**"
   ]
  },
  {
   "cell_type": "code",
   "execution_count": 7,
   "id": "5009e000",
   "metadata": {},
   "outputs": [
    {
     "name": "stdout",
     "output_type": "stream",
     "text": [
      "Fitting 3 folds for each of 1 candidates, totalling 3 fits\n",
      "{'alpha': 0, 'solver': 'auto'}\n"
     ]
    }
   ],
   "source": [
    "# param_grid_rid = {\n",
    "#     'alpha':np.arange(0,5,0.1),\n",
    "#     'solver':('auto', 'svdf', 'cholesky', 'lsqr', 'sparse_cg', 'sag', 'saga', 'lbfgs')\n",
    "# }\n",
    "\n",
    "param_grid_rid = {\n",
    "    'alpha':[0],\n",
    "    'solver':['auto']\n",
    "}\n",
    "\n",
    "gridsearch_rid = GridSearchCV(estimator=rid, param_grid=param_grid_rid, n_jobs=-1, \n",
    "                           cv=3, scoring='roc_auc',verbose=1)\n",
    "\n",
    "gridsearch_rid.fit(X, y)\n",
    "\n",
    "print(gridsearch_rid.best_params_)\n",
    "\n",
    "#final output: {'alpha': 0.0, 'solver': 'auto'}\n"
   ]
  },
  {
   "cell_type": "code",
   "execution_count": 8,
   "id": "4ceaaa0e",
   "metadata": {},
   "outputs": [
    {
     "name": "stdout",
     "output_type": "stream",
     "text": [
      "Accuracy: 0.645378\n",
      "AUC Score: 0.643225 \n"
     ]
    }
   ],
   "source": [
    "grid_auc_score = roc_auc_score(y_test, gridsearch_rid.decision_function(X_test))\n",
    "\n",
    "print('Accuracy: %f' % gridsearch_rid.score(X_test,y_test))\n",
    "print('AUC Score: %f '% auc_score)"
   ]
  },
  {
   "cell_type": "markdown",
   "id": "9fc38a92",
   "metadata": {},
   "source": [
    "## BaggingClassifier"
   ]
  },
  {
   "cell_type": "code",
   "execution_count": 9,
   "id": "37639598",
   "metadata": {},
   "outputs": [],
   "source": [
    "bdt = BaggingClassifier(random_state=32)"
   ]
  },
  {
   "cell_type": "code",
   "execution_count": 10,
   "id": "017b54d4",
   "metadata": {},
   "outputs": [
    {
     "name": "stdout",
     "output_type": "stream",
     "text": [
      "accuracy: 0.5636\n",
      "AUC Score: 0.5839\n"
     ]
    }
   ],
   "source": [
    "bdt.fit(X_train, y_train)\n",
    "\n",
    "result(bdt,X,y,X_test,y_test)"
   ]
  },
  {
   "cell_type": "markdown",
   "id": "c87fd0d5",
   "metadata": {},
   "source": [
    "**Hyperparameters tuning**"
   ]
  },
  {
   "cell_type": "code",
   "execution_count": 11,
   "id": "db6a10b5",
   "metadata": {},
   "outputs": [
    {
     "name": "stdout",
     "output_type": "stream",
     "text": [
      "Fitting 3 folds for each of 1 candidates, totalling 3 fits\n",
      "{'n_estimators': 81} 0.6034509667280059\n"
     ]
    }
   ],
   "source": [
    "# param_grid_bdt = {\n",
    "#     'n_estimators':np.arange(0,100)\n",
    "# }\n",
    "\n",
    "param_grid_bdt = {\n",
    "    'n_estimators': [81]\n",
    "}\n",
    "\n",
    "\n",
    "gridsearch_bdt = GridSearchCV(estimator=bdt, param_grid=param_grid_bdt, n_jobs=-1, cv=3,\n",
    "                           scoring='roc_auc',error_score=0,verbose=1)\n",
    "\n",
    "gridsearch_bdt.fit(X_train, y_train)\n",
    "print(gridsearch_bdt.best_params_,gridsearch_bdt.score(X_test,y_test))\n",
    "\n",
    "#output: {'n_estimators': 81} 0.5963405472302774\n"
   ]
  },
  {
   "cell_type": "code",
   "execution_count": 12,
   "id": "9beedc48",
   "metadata": {},
   "outputs": [
    {
     "name": "stdout",
     "output_type": "stream",
     "text": [
      "accuracy: 0.6035\n",
      "AUC Score: 0.6035\n"
     ]
    },
    {
     "data": {
      "text/plain": [
       "0.6033838202361378"
      ]
     },
     "execution_count": 12,
     "metadata": {},
     "output_type": "execute_result"
    },
    {
     "data": {
      "image/png": "[encoded data removed]",
      "text/plain": [
       "<Figure size 640x480 with 1 Axes>"
      ]
     },
     "metadata": {},
     "output_type": "display_data"
    }
   ],
   "source": [
    "result(gridsearch_bdt,X,y,X_test,y_test)\n",
    "analyse_ROC(gridsearch_bdt, X_test,y_test)"
   ]
  },
  {
   "cell_type": "markdown",
   "id": "b48f7fbc",
   "metadata": {},
   "source": [
    "## XGBoost"
   ]
  },
  {
   "cell_type": "code",
   "execution_count": 13,
   "id": "6d662f96",
   "metadata": {},
   "outputs": [
    {
     "name": "stdout",
     "output_type": "stream",
     "text": [
      "[0]\tvalidation_0-aucpr:0.58073\n",
      "[1]\tvalidation_0-aucpr:0.59037\n",
      "[2]\tvalidation_0-aucpr:0.59538\n",
      "[3]\tvalidation_0-aucpr:0.60411\n",
      "[4]\tvalidation_0-aucpr:0.60705\n",
      "[5]\tvalidation_0-aucpr:0.60421\n",
      "[6]\tvalidation_0-aucpr:0.60289\n",
      "[7]\tvalidation_0-aucpr:0.60335\n",
      "[8]\tvalidation_0-aucpr:0.60529\n",
      "[9]\tvalidation_0-aucpr:0.60300\n",
      "[10]\tvalidation_0-aucpr:0.60542\n",
      "[11]\tvalidation_0-aucpr:0.60188\n",
      "[12]\tvalidation_0-aucpr:0.59923\n",
      "[13]\tvalidation_0-aucpr:0.59784\n"
     ]
    },
    {
     "data": {
      "text/html": [
       "<style>#sk-container-id-1 {color: black;}#sk-container-id-1 pre{padding: 0;}#sk-container-id-1 div.sk-toggleable {background-color: white;}#sk-container-id-1 label.sk-toggleable__label {cursor: pointer;display: block;width: 100%;margin-bottom: 0;padding: 0.3em;box-sizing: border-box;text-align: center;}#sk-container-id-1 label.sk-toggleable__label-arrow:before {content: \"▸\";float: left;margin-right: 0.25em;color: #696969;}#sk-container-id-1 label.sk-toggleable__label-arrow:hover:before {color: black;}#sk-container-id-1 div.sk-estimator:hover label.sk-toggleable__label-arrow:before {color: black;}#sk-container-id-1 div.sk-toggleable__content {max-height: 0;max-width: 0;overflow: hidden;text-align: left;background-color: #f0f8ff;}#sk-container-id-1 div.sk-toggleable__content pre {margin: 0.2em;color: black;border-radius: 0.25em;background-color: #f0f8ff;}#sk-container-id-1 input.sk-toggleable__control:checked~div.sk-toggleable__content {max-height: 200px;max-width: 100%;overflow: auto;}#sk-container-id-1 input.sk-toggleable__control:checked~label.sk-toggleable__label-arrow:before {content: \"▾\";}#sk-container-id-1 div.sk-estimator input.sk-toggleable__control:checked~label.sk-toggleable__label {background-color: #d4ebff;}#sk-container-id-1 div.sk-label input.sk-toggleable__control:checked~label.sk-toggleable__label {background-color: #d4ebff;}#sk-container-id-1 input.sk-hidden--visually {border: 0;clip: rect(1px 1px 1px 1px);clip: rect(1px, 1px, 1px, 1px);height: 1px;margin: -1px;overflow: hidden;padding: 0;position: absolute;width: 1px;}#sk-container-id-1 div.sk-estimator {font-family: monospace;background-color: #f0f8ff;border: 1px dotted black;border-radius: 0.25em;box-sizing: border-box;margin-bottom: 0.5em;}#sk-container-id-1 div.sk-estimator:hover {background-color: #d4ebff;}#sk-container-id-1 div.sk-parallel-item::after {content: \"\";width: 100%;border-bottom: 1px solid gray;flex-grow: 1;}#sk-container-id-1 div.sk-label:hover label.sk-toggleable__label {background-color: #d4ebff;}#sk-container-id-1 div.sk-serial::before {content: \"\";position: absolute;border-left: 1px solid gray;box-sizing: border-box;top: 0;bottom: 0;left: 50%;z-index: 0;}#sk-container-id-1 div.sk-serial {display: flex;flex-direction: column;align-items: center;background-color: white;padding-right: 0.2em;padding-left: 0.2em;position: relative;}#sk-container-id-1 div.sk-item {position: relative;z-index: 1;}#sk-container-id-1 div.sk-parallel {display: flex;align-items: stretch;justify-content: center;background-color: white;position: relative;}#sk-container-id-1 div.sk-item::before, #sk-container-id-1 div.sk-parallel-item::before {content: \"\";position: absolute;border-left: 1px solid gray;box-sizing: border-box;top: 0;bottom: 0;left: 50%;z-index: -1;}#sk-container-id-1 div.sk-parallel-item {display: flex;flex-direction: column;z-index: 1;position: relative;background-color: white;}#sk-container-id-1 div.sk-parallel-item:first-child::after {align-self: flex-end;width: 50%;}#sk-container-id-1 div.sk-parallel-item:last-child::after {align-self: flex-start;width: 50%;}#sk-container-id-1 div.sk-parallel-item:only-child::after {width: 0;}#sk-container-id-1 div.sk-dashed-wrapped {border: 1px dashed gray;margin: 0 0.4em 0.5em 0.4em;box-sizing: border-box;padding-bottom: 0.4em;background-color: white;}#sk-container-id-1 div.sk-label label {font-family: monospace;font-weight: bold;display: inline-block;line-height: 1.2em;}#sk-container-id-1 div.sk-label-container {text-align: center;}#sk-container-id-1 div.sk-container {/* jupyter's `normalize.less` sets `[hidden] { display: none; }` but bootstrap.min.css set `[hidden] { display: none !important; }` so we also need the `!important` here to be able to override the default hidden behavior on the sphinx rendered scikit-learn.org. See: https://github.com/scikit-learn/scikit-learn/issues/21755 */display: inline-block !important;position: relative;}#sk-container-id-1 div.sk-text-repr-fallback {display: none;}</style><div id=\"sk-container-id-1\" class=\"sk-top-container\"><div class=\"sk-text-repr-fallback\"><pre>XGBClassifier(base_score=None, booster=None, callbacks=None,\n",
       "              colsample_bylevel=None, colsample_bynode=None,\n",
       "              colsample_bytree=None, early_stopping_rounds=None,\n",
       "              enable_categorical=False, eval_metric=None, feature_types=None,\n",
       "              gamma=None, gpu_id=None, grow_policy=None, importance_type=None,\n",
       "              interaction_constraints=None, learning_rate=None, max_bin=None,\n",
       "              max_cat_threshold=None, max_cat_to_onehot=None,\n",
       "              max_delta_step=None, max_depth=None, max_leaves=None,\n",
       "              min_child_weight=None, missing=nan, monotone_constraints=None,\n",
       "              n_estimators=100, n_jobs=None, num_parallel_tree=None,\n",
       "              predictor=None, random_state=None, ...)</pre><b>In a Jupyter environment, please rerun this cell to show the HTML representation or trust the notebook. <br />On GitHub, the HTML representation is unable to render, please try loading this page with nbviewer.org.</b></div><div class=\"sk-container\" hidden><div class=\"sk-item\"><div class=\"sk-estimator sk-toggleable\"><input class=\"sk-toggleable__control sk-hidden--visually\" id=\"sk-estimator-id-1\" type=\"checkbox\" checked><label for=\"sk-estimator-id-1\" class=\"sk-toggleable__label sk-toggleable__label-arrow\">XGBClassifier</label><div class=\"sk-toggleable__content\"><pre>XGBClassifier(base_score=None, booster=None, callbacks=None,\n",
       "              colsample_bylevel=None, colsample_bynode=None,\n",
       "              colsample_bytree=None, early_stopping_rounds=None,\n",
       "              enable_categorical=False, eval_metric=None, feature_types=None,\n",
       "              gamma=None, gpu_id=None, grow_policy=None, importance_type=None,\n",
       "              interaction_constraints=None, learning_rate=None, max_bin=None,\n",
       "              max_cat_threshold=None, max_cat_to_onehot=None,\n",
       "              max_delta_step=None, max_depth=None, max_leaves=None,\n",
       "              min_child_weight=None, missing=nan, monotone_constraints=None,\n",
       "              n_estimators=100, n_jobs=None, num_parallel_tree=None,\n",
       "              predictor=None, random_state=None, ...)</pre></div></div></div></div></div>"
      ],
      "text/plain": [
       "XGBClassifier(base_score=None, booster=None, callbacks=None,\n",
       "              colsample_bylevel=None, colsample_bynode=None,\n",
       "              colsample_bytree=None, early_stopping_rounds=None,\n",
       "              enable_categorical=False, eval_metric=None, feature_types=None,\n",
       "              gamma=None, gpu_id=None, grow_policy=None, importance_type=None,\n",
       "              interaction_constraints=None, learning_rate=None, max_bin=None,\n",
       "              max_cat_threshold=None, max_cat_to_onehot=None,\n",
       "              max_delta_step=None, max_depth=None, max_leaves=None,\n",
       "              min_child_weight=None, missing=nan, monotone_constraints=None,\n",
       "              n_estimators=100, n_jobs=None, num_parallel_tree=None,\n",
       "              predictor=None, random_state=None, ...)"
      ]
     },
     "execution_count": 13,
     "metadata": {},
     "output_type": "execute_result"
    }
   ],
   "source": [
    "clf_xgb = xgb.XGBClassifier(objective='binary:logistic', seed=32)\n",
    "\n",
    "clf_xgb.fit(X_train,y_train,verbose=1,early_stopping_rounds=10,\n",
    "            eval_metric='aucpr',eval_set=[(X_test,y_test)])"
   ]
  },
  {
   "cell_type": "markdown",
   "id": "dd9cfa80",
   "metadata": {},
   "source": [
    "**Hyperparameters tuning**"
   ]
  },
  {
   "cell_type": "code",
   "execution_count": 14,
   "id": "2bcf9c59",
   "metadata": {},
   "outputs": [],
   "source": [
    "# space = {\n",
    "#     'max_depth': np.arange(1,3),\n",
    "#     'learning_rate': np.arange(0,10,0.5),\n",
    "#     'gamma': np.arange(0,0.9,0.05),\n",
    "#     'reg_lambda': np.arange(0,100,7),\n",
    "#     'scale_pos_weight': np.arange(0,10)\n",
    "# }\n",
    "\n",
    "# randomsearch_xgb = RandomizedSearchCV(estimator=clf_xgb,param_distributions=space, n_iter=2000, \n",
    "#                                       scoring='roc_auc', n_jobs=-1, cv=3, random_state=32)\n",
    "\n",
    "# randomsearch_xgb.fit(X_train,y_train)\n",
    "# print(randomsearch_xgb.best_params_)\n",
    "\n",
    "#final output:{'scale_pos_weight': 4, 'reg_lambda': 70, 'max_depth': 1, 'learning_rate': 0.5, 'gamma': 0.55}"
   ]
  },
  {
   "cell_type": "code",
   "execution_count": 15,
   "id": "359c8f80",
   "metadata": {},
   "outputs": [
    {
     "name": "stdout",
     "output_type": "stream",
     "text": [
      "Fitting 3 folds for each of 1 candidates, totalling 3 fits\n",
      "{'gamma': 0.54, 'learning_rate': 0.5, 'max_depth': 1, 'reg_lambda': 67, 'scale_pos_weight': 4}\n"
     ]
    }
   ],
   "source": [
    "# param_grid = {\n",
    "#     'max_depth': [1,2],\n",
    "#     'learning_rate': np.arange(0.50,0.0.58,0.02),\n",
    "#     'gamma': np.arange(0.5,0.55,0.01),\n",
    "#     'reg_lambda': np.arange(66,75),\n",
    "#     'scale_pos_weight': np.arange(3.4,5.6,0.3)\n",
    "# }\n",
    "\n",
    "param_grid = {\n",
    "    'max_depth': [1],\n",
    "    'learning_rate': [0.5],\n",
    "    'gamma': [0.54],\n",
    "    'reg_lambda': [67],\n",
    "    'scale_pos_weight': [4]\n",
    "}\n",
    "\n",
    "\n",
    "optimal_params = GridSearchCV(estimator=clf_xgb, n_jobs = -1, param_grid=param_grid, scoring='roc_auc', \n",
    "                              verbose=1, cv=3)\n",
    "optimal_params.fit(X_train,y_train)\n",
    "\n",
    "print(optimal_params.best_params_)\n",
    "\n",
    "#final output:{'gamma': 0.54, 'learning_rate': 0.5, 'max_depth': 1, 'reg_lambda': 67, 'scale_pos_weight': 4}\n",
    "\n"
   ]
  },
  {
   "cell_type": "code",
   "execution_count": 16,
   "id": "35380a69",
   "metadata": {},
   "outputs": [
    {
     "name": "stdout",
     "output_type": "stream",
     "text": [
      "[0]\tvalidation_0-aucpr:0.51129\n",
      "[1]\tvalidation_0-aucpr:0.56214\n",
      "[2]\tvalidation_0-aucpr:0.58338\n",
      "[3]\tvalidation_0-aucpr:0.58667\n",
      "[4]\tvalidation_0-aucpr:0.58659\n",
      "[5]\tvalidation_0-aucpr:0.59994\n",
      "[6]\tvalidation_0-aucpr:0.59988\n",
      "[7]\tvalidation_0-aucpr:0.59956\n",
      "[8]\tvalidation_0-aucpr:0.60011\n",
      "[9]\tvalidation_0-aucpr:0.59998\n",
      "[10]\tvalidation_0-aucpr:0.59976\n",
      "[11]\tvalidation_0-aucpr:0.60224\n",
      "[12]\tvalidation_0-aucpr:0.60100\n",
      "[13]\tvalidation_0-aucpr:0.60238\n",
      "[14]\tvalidation_0-aucpr:0.60455\n",
      "[15]\tvalidation_0-aucpr:0.60419\n",
      "[16]\tvalidation_0-aucpr:0.60694\n",
      "[17]\tvalidation_0-aucpr:0.60652\n",
      "[18]\tvalidation_0-aucpr:0.60651\n",
      "[19]\tvalidation_0-aucpr:0.60682\n",
      "[20]\tvalidation_0-aucpr:0.60468\n",
      "[21]\tvalidation_0-aucpr:0.60492\n",
      "[22]\tvalidation_0-aucpr:0.60472\n",
      "[23]\tvalidation_0-aucpr:0.60406\n",
      "[24]\tvalidation_0-aucpr:0.60333\n",
      "[25]\tvalidation_0-aucpr:0.60353\n",
      "[26]\tvalidation_0-aucpr:0.60446\n"
     ]
    },
    {
     "data": {
      "text/html": [
       "<style>#sk-container-id-2 {color: black;}#sk-container-id-2 pre{padding: 0;}#sk-container-id-2 div.sk-toggleable {background-color: white;}#sk-container-id-2 label.sk-toggleable__label {cursor: pointer;display: block;width: 100%;margin-bottom: 0;padding: 0.3em;box-sizing: border-box;text-align: center;}#sk-container-id-2 label.sk-toggleable__label-arrow:before {content: \"▸\";float: left;margin-right: 0.25em;color: #696969;}#sk-container-id-2 label.sk-toggleable__label-arrow:hover:before {color: black;}#sk-container-id-2 div.sk-estimator:hover label.sk-toggleable__label-arrow:before {color: black;}#sk-container-id-2 div.sk-toggleable__content {max-height: 0;max-width: 0;overflow: hidden;text-align: left;background-color: #f0f8ff;}#sk-container-id-2 div.sk-toggleable__content pre {margin: 0.2em;color: black;border-radius: 0.25em;background-color: #f0f8ff;}#sk-container-id-2 input.sk-toggleable__control:checked~div.sk-toggleable__content {max-height: 200px;max-width: 100%;overflow: auto;}#sk-container-id-2 input.sk-toggleable__control:checked~label.sk-toggleable__label-arrow:before {content: \"▾\";}#sk-container-id-2 div.sk-estimator input.sk-toggleable__control:checked~label.sk-toggleable__label {background-color: #d4ebff;}#sk-container-id-2 div.sk-label input.sk-toggleable__control:checked~label.sk-toggleable__label {background-color: #d4ebff;}#sk-container-id-2 input.sk-hidden--visually {border: 0;clip: rect(1px 1px 1px 1px);clip: rect(1px, 1px, 1px, 1px);height: 1px;margin: -1px;overflow: hidden;padding: 0;position: absolute;width: 1px;}#sk-container-id-2 div.sk-estimator {font-family: monospace;background-color: #f0f8ff;border: 1px dotted black;border-radius: 0.25em;box-sizing: border-box;margin-bottom: 0.5em;}#sk-container-id-2 div.sk-estimator:hover {background-color: #d4ebff;}#sk-container-id-2 div.sk-parallel-item::after {content: \"\";width: 100%;border-bottom: 1px solid gray;flex-grow: 1;}#sk-container-id-2 div.sk-label:hover label.sk-toggleable__label {background-color: #d4ebff;}#sk-container-id-2 div.sk-serial::before {content: \"\";position: absolute;border-left: 1px solid gray;box-sizing: border-box;top: 0;bottom: 0;left: 50%;z-index: 0;}#sk-container-id-2 div.sk-serial {display: flex;flex-direction: column;align-items: center;background-color: white;padding-right: 0.2em;padding-left: 0.2em;position: relative;}#sk-container-id-2 div.sk-item {position: relative;z-index: 1;}#sk-container-id-2 div.sk-parallel {display: flex;align-items: stretch;justify-content: center;background-color: white;position: relative;}#sk-container-id-2 div.sk-item::before, #sk-container-id-2 div.sk-parallel-item::before {content: \"\";position: absolute;border-left: 1px solid gray;box-sizing: border-box;top: 0;bottom: 0;left: 50%;z-index: -1;}#sk-container-id-2 div.sk-parallel-item {display: flex;flex-direction: column;z-index: 1;position: relative;background-color: white;}#sk-container-id-2 div.sk-parallel-item:first-child::after {align-self: flex-end;width: 50%;}#sk-container-id-2 div.sk-parallel-item:last-child::after {align-self: flex-start;width: 50%;}#sk-container-id-2 div.sk-parallel-item:only-child::after {width: 0;}#sk-container-id-2 div.sk-dashed-wrapped {border: 1px dashed gray;margin: 0 0.4em 0.5em 0.4em;box-sizing: border-box;padding-bottom: 0.4em;background-color: white;}#sk-container-id-2 div.sk-label label {font-family: monospace;font-weight: bold;display: inline-block;line-height: 1.2em;}#sk-container-id-2 div.sk-label-container {text-align: center;}#sk-container-id-2 div.sk-container {/* jupyter's `normalize.less` sets `[hidden] { display: none; }` but bootstrap.min.css set `[hidden] { display: none !important; }` so we also need the `!important` here to be able to override the default hidden behavior on the sphinx rendered scikit-learn.org. See: https://github.com/scikit-learn/scikit-learn/issues/21755 */display: inline-block !important;position: relative;}#sk-container-id-2 div.sk-text-repr-fallback {display: none;}</style><div id=\"sk-container-id-2\" class=\"sk-top-container\"><div class=\"sk-text-repr-fallback\"><pre>XGBClassifier(base_score=None, booster=None, callbacks=None,\n",
       "              colsample_bylevel=None, colsample_bynode=None,\n",
       "              colsample_bytree=None, early_stopping_rounds=None,\n",
       "              enable_categorical=False, eval_metric=None, feature_types=None,\n",
       "              gamma=0.54, gpu_id=None, grow_policy=None, importance_type=None,\n",
       "              interaction_constraints=None, learning_rate=0.5, max_bin=None,\n",
       "              max_cat_threshold=None, max_cat_to_onehot=None,\n",
       "              max_delta_step=None, max_depth=1, max_leaves=None,\n",
       "              min_child_weight=None, missing=nan, monotone_constraints=None,\n",
       "              n_estimators=100, n_jobs=None, num_parallel_tree=None,\n",
       "              predictor=None, random_state=None, ...)</pre><b>In a Jupyter environment, please rerun this cell to show the HTML representation or trust the notebook. <br />On GitHub, the HTML representation is unable to render, please try loading this page with nbviewer.org.</b></div><div class=\"sk-container\" hidden><div class=\"sk-item\"><div class=\"sk-estimator sk-toggleable\"><input class=\"sk-toggleable__control sk-hidden--visually\" id=\"sk-estimator-id-2\" type=\"checkbox\" checked><label for=\"sk-estimator-id-2\" class=\"sk-toggleable__label sk-toggleable__label-arrow\">XGBClassifier</label><div class=\"sk-toggleable__content\"><pre>XGBClassifier(base_score=None, booster=None, callbacks=None,\n",
       "              colsample_bylevel=None, colsample_bynode=None,\n",
       "              colsample_bytree=None, early_stopping_rounds=None,\n",
       "              enable_categorical=False, eval_metric=None, feature_types=None,\n",
       "              gamma=0.54, gpu_id=None, grow_policy=None, importance_type=None,\n",
       "              interaction_constraints=None, learning_rate=0.5, max_bin=None,\n",
       "              max_cat_threshold=None, max_cat_to_onehot=None,\n",
       "              max_delta_step=None, max_depth=1, max_leaves=None,\n",
       "              min_child_weight=None, missing=nan, monotone_constraints=None,\n",
       "              n_estimators=100, n_jobs=None, num_parallel_tree=None,\n",
       "              predictor=None, random_state=None, ...)</pre></div></div></div></div></div>"
      ],
      "text/plain": [
       "XGBClassifier(base_score=None, booster=None, callbacks=None,\n",
       "              colsample_bylevel=None, colsample_bynode=None,\n",
       "              colsample_bytree=None, early_stopping_rounds=None,\n",
       "              enable_categorical=False, eval_metric=None, feature_types=None,\n",
       "              gamma=0.54, gpu_id=None, grow_policy=None, importance_type=None,\n",
       "              interaction_constraints=None, learning_rate=0.5, max_bin=None,\n",
       "              max_cat_threshold=None, max_cat_to_onehot=None,\n",
       "              max_delta_step=None, max_depth=1, max_leaves=None,\n",
       "              min_child_weight=None, missing=nan, monotone_constraints=None,\n",
       "              n_estimators=100, n_jobs=None, num_parallel_tree=None,\n",
       "              predictor=None, random_state=None, ...)"
      ]
     },
     "execution_count": 16,
     "metadata": {},
     "output_type": "execute_result"
    }
   ],
   "source": [
    "clf_xgb = xgb.XGBClassifier(objective='binary:logistic',learning_rate=0.5, max_depth=1, gamma=0.54,\n",
    "                            reg_lambda=67, scale_pos_weight=4,seed=32)\n",
    "\n",
    "\n",
    "clf_xgb.fit(X_train,y_train,verbose=1,early_stopping_rounds=10,\n",
    "            eval_metric='aucpr',eval_set=[(X_test,y_test)])"
   ]
  },
  {
   "cell_type": "markdown",
   "id": "24eb55fa",
   "metadata": {},
   "source": [
    "**Hyperparameters tuning has not increased XGBClassifier auc result much (~0.03)**"
   ]
  },
  {
   "cell_type": "markdown",
   "id": "e0cb06e1",
   "metadata": {},
   "source": [
    "##### Best decision tree based on the result of XGBClassifier"
   ]
  },
  {
   "cell_type": "code",
   "execution_count": 17,
   "id": "1e4a4208",
   "metadata": {},
   "outputs": [
    {
     "name": "stdout",
     "output_type": "stream",
     "text": [
      "weight:  {'mothers_education': 1.0}\n",
      "gain:  {'mothers_education': 117.28955078125}\n",
      "cover:  {'mothers_education': 2796.75}\n",
      "total_gain:  {'mothers_education': 117.28955078125}\n",
      "total_cover:  {'mothers_education': 2796.75}\n"
     ]
    },
    {
     "data": {
      "image/svg+xml": [
       "<?xml version=\"1.0\" encoding=\"UTF-8\" standalone=\"no\"?>\n",
       "<!DOCTYPE svg PUBLIC \"-//W3C//DTD SVG 1.1//EN\"\n",
       " \"http://www.w3.org/Graphics/SVG/1.1/DTD/svg11.dtd\">\n",
       "<!-- Generated by graphviz version 2.50.0 (0)\n",
       " -->\n",
       "<!-- Pages: 1 -->\n",
       "<svg width=\"258pt\" height=\"131pt\"\n",
       " viewBox=\"0.00 0.00 258.00 131.00\" xmlns=\"http://www.w3.org/2000/svg\" xmlns:xlink=\"http://www.w3.org/1999/xlink\">\n",
       "<g id=\"graph0\" class=\"graph\" transform=\"scale(1 1) rotate(0) translate(4 127)\">\n",
       "<polygon fill=\"white\" stroke=\"transparent\" points=\"-4,4 -4,-127 254,-127 254,4 -4,4\"/>\n",
       "<!-- 0 -->\n",
       "<g id=\"node1\" class=\"node\">\n",
       "<title>0</title>\n",
       "<path fill=\"lightgrey\" stroke=\"black\" d=\"M186,-123C186,-123 64,-123 64,-123 58,-123 52,-117 52,-111 52,-111 52,-99 52,-99 52,-93 58,-87 64,-87 64,-87 186,-87 186,-87 192,-87 198,-93 198,-99 198,-99 198,-111 198,-111 198,-117 192,-123 186,-123\"/>\n",
       "<text text-anchor=\"middle\" x=\"125\" y=\"-101.3\" font-family=\"Times,serif\" font-size=\"14.00\">mothers_education&lt;2.5</text>\n",
       "</g>\n",
       "<!-- 1 -->\n",
       "<g id=\"node2\" class=\"node\">\n",
       "<title>1</title>\n",
       "<polygon fill=\"lightgrey\" stroke=\"black\" points=\"116,-36 0,-36 0,0 116,0 116,-36\"/>\n",
       "<text text-anchor=\"middle\" x=\"58\" y=\"-14.3\" font-family=\"Times,serif\" font-size=\"14.00\">leaf=0.620448947</text>\n",
       "</g>\n",
       "<!-- 0&#45;&gt;1 -->\n",
       "<g id=\"edge1\" class=\"edge\">\n",
       "<title>0&#45;&gt;1</title>\n",
       "<path fill=\"none\" stroke=\"#0000ff\" d=\"M111.44,-86.8C101.82,-74.59 88.73,-57.99 77.92,-44.28\"/>\n",
       "<polygon fill=\"#0000ff\" stroke=\"#0000ff\" points=\"80.48,-41.86 71.54,-36.18 74.98,-46.2 80.48,-41.86\"/>\n",
       "<text text-anchor=\"middle\" x=\"130.5\" y=\"-57.8\" font-family=\"Times,serif\" font-size=\"14.00\">yes, missing</text>\n",
       "</g>\n",
       "<!-- 2 -->\n",
       "<g id=\"node3\" class=\"node\">\n",
       "<title>2</title>\n",
       "<polygon fill=\"lightgrey\" stroke=\"black\" points=\"250,-36 134,-36 134,0 250,0 250,-36\"/>\n",
       "<text text-anchor=\"middle\" x=\"192\" y=\"-14.3\" font-family=\"Times,serif\" font-size=\"14.00\">leaf=0.166815341</text>\n",
       "</g>\n",
       "<!-- 0&#45;&gt;2 -->\n",
       "<g id=\"edge2\" class=\"edge\">\n",
       "<title>0&#45;&gt;2</title>\n",
       "<path fill=\"none\" stroke=\"#ff0000\" d=\"M150.59,-86.93C157.16,-81.72 163.82,-75.61 169,-69 174.45,-62.05 178.96,-53.6 182.5,-45.64\"/>\n",
       "<polygon fill=\"#ff0000\" stroke=\"#ff0000\" points=\"185.77,-46.89 186.34,-36.31 179.3,-44.23 185.77,-46.89\"/>\n",
       "<text text-anchor=\"middle\" x=\"184\" y=\"-57.8\" font-family=\"Times,serif\" font-size=\"14.00\">no</text>\n",
       "</g>\n",
       "</g>\n",
       "</svg>\n"
      ],
      "text/plain": [
       "<graphviz.sources.Source at 0x125b427d0>"
      ]
     },
     "execution_count": 17,
     "metadata": {},
     "output_type": "execute_result"
    }
   ],
   "source": [
    "clf_xgb = xgb.XGBClassifier(objective='binary:logistic',learning_rate=0.5, max_depth=1, gamma=0.54,\n",
    "                            reg_lambda=67, scale_pos_weight=4,seed=32,n_estimators=1)\n",
    "clf_xgb.fit(X_train,y_train)\n",
    "\n",
    "best_tree=clf_xgb.get_booster()\n",
    "for importance_type in ('weight', 'gain', 'cover', 'total_gain', 'total_cover'):\n",
    "    print('%s: ' % importance_type, best_tree.get_score(importance_type=importance_type))\n",
    "\n",
    "node_params = {'shape': 'box',\n",
    "              'style': 'filled, rounded'}\n",
    "leaf_params = {'shape': 'box',\n",
    "              'style': 'filled'}\n",
    "\n",
    "xgb.to_graphviz(clf_xgb, num_trees=0, size='10,10', condition_node_params=node_params,\n",
    "                leaf_node_params=leaf_params)\n"
   ]
  }
 ],
 "metadata": {
  "kernelspec": {
   "display_name": "Python 3 (ipykernel)",
   "language": "python",
   "name": "python3"
  },
  "language_info": {
   "codemirror_mode": {
    "name": "ipython",
    "version": 3
   },
   "file_extension": ".py",
   "mimetype": "text/x-python",
   "name": "python",
   "nbconvert_exporter": "python",
   "pygments_lexer": "ipython3",
   "version": "3.11.5"
  }
 },
 "nbformat": 4,
 "nbformat_minor": 5
}
